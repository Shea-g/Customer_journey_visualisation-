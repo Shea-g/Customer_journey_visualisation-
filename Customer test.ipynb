{
 "cells": [
  {
   "cell_type": "code",
   "execution_count": 1,
   "id": "515d2124",
   "metadata": {},
   "outputs": [],
   "source": [
    "import random\n",
    "import numpy as np\n",
    "import pandas as pd"
   ]
  },
  {
   "cell_type": "code",
   "execution_count": 2,
   "id": "1d94046b",
   "metadata": {},
   "outputs": [],
   "source": [
    "starting_location = ['dairy', 'fruit', 'drinks', 'spices']\n",
    "starting_prob_states = np.array([0.3,0.4,0.2,0.1]) #these probs that you go to these four states, and randomly choosing init state"
   ]
  },
  {
   "cell_type": "code",
   "execution_count": 17,
   "id": "031a327b",
   "metadata": {},
   "outputs": [],
   "source": [
    "probs = pd.read_csv('p.csv',index_col=[0])"
   ]
  },
  {
   "cell_type": "code",
   "execution_count": 18,
   "id": "37a0aac3",
   "metadata": {},
   "outputs": [
    {
     "data": {
      "text/html": [
       "<div>\n",
       "<style scoped>\n",
       "    .dataframe tbody tr th:only-of-type {\n",
       "        vertical-align: middle;\n",
       "    }\n",
       "\n",
       "    .dataframe tbody tr th {\n",
       "        vertical-align: top;\n",
       "    }\n",
       "\n",
       "    .dataframe thead th {\n",
       "        text-align: right;\n",
       "    }\n",
       "</style>\n",
       "<table border=\"1\" class=\"dataframe\">\n",
       "  <thead>\n",
       "    <tr style=\"text-align: right;\">\n",
       "      <th></th>\n",
       "      <th>checkout</th>\n",
       "      <th>dairy</th>\n",
       "      <th>drinks</th>\n",
       "      <th>fruit</th>\n",
       "      <th>spices</th>\n",
       "    </tr>\n",
       "    <tr>\n",
       "      <th>location</th>\n",
       "      <th></th>\n",
       "      <th></th>\n",
       "      <th></th>\n",
       "      <th></th>\n",
       "      <th></th>\n",
       "    </tr>\n",
       "  </thead>\n",
       "  <tbody>\n",
       "    <tr>\n",
       "      <th>checkout</th>\n",
       "      <td>1.000000</td>\n",
       "      <td>0.000000</td>\n",
       "      <td>0.000000</td>\n",
       "      <td>0.000000</td>\n",
       "      <td>0.000000</td>\n",
       "    </tr>\n",
       "    <tr>\n",
       "      <th>dairy</th>\n",
       "      <td>0.392389</td>\n",
       "      <td>0.000000</td>\n",
       "      <td>0.222318</td>\n",
       "      <td>0.189852</td>\n",
       "      <td>0.195442</td>\n",
       "    </tr>\n",
       "    <tr>\n",
       "      <th>drinks</th>\n",
       "      <td>0.538956</td>\n",
       "      <td>0.027256</td>\n",
       "      <td>0.000000</td>\n",
       "      <td>0.217794</td>\n",
       "      <td>0.215994</td>\n",
       "    </tr>\n",
       "    <tr>\n",
       "      <th>fruit</th>\n",
       "      <td>0.500784</td>\n",
       "      <td>0.236966</td>\n",
       "      <td>0.136417</td>\n",
       "      <td>0.000000</td>\n",
       "      <td>0.125833</td>\n",
       "    </tr>\n",
       "    <tr>\n",
       "      <th>spices</th>\n",
       "      <td>0.251672</td>\n",
       "      <td>0.323616</td>\n",
       "      <td>0.272800</td>\n",
       "      <td>0.151912</td>\n",
       "      <td>0.000000</td>\n",
       "    </tr>\n",
       "  </tbody>\n",
       "</table>\n",
       "</div>"
      ],
      "text/plain": [
       "          checkout     dairy    drinks     fruit    spices\n",
       "location                                                  \n",
       "checkout  1.000000  0.000000  0.000000  0.000000  0.000000\n",
       "dairy     0.392389  0.000000  0.222318  0.189852  0.195442\n",
       "drinks    0.538956  0.027256  0.000000  0.217794  0.215994\n",
       "fruit     0.500784  0.236966  0.136417  0.000000  0.125833\n",
       "spices    0.251672  0.323616  0.272800  0.151912  0.000000"
      ]
     },
     "execution_count": 18,
     "metadata": {},
     "output_type": "execute_result"
    }
   ],
   "source": [
    "probs"
   ]
  },
  {
   "cell_type": "code",
   "execution_count": 19,
   "id": "35112847",
   "metadata": {},
   "outputs": [],
   "source": [
    "STATES = ['drinks', 'dairy', 'fruit', 'spices', 'checkout']"
   ]
  },
  {
   "cell_type": "code",
   "execution_count": 20,
   "id": "fef78227",
   "metadata": {},
   "outputs": [],
   "source": [
    "class Customer:\n",
    "    \"\"\"\n",
    "    a single customer that moves through the supermarket\n",
    "    in a MCMC simulation\n",
    "    \"\"\"\n",
    "\n",
    "    def __init__(self, name='Test',state=np.random.choice(starting_location,p=starting_prob_states)): #first state\n",
    "        self.name = name\n",
    "        self.state = state\n",
    "        self.transition_probs = probs\n",
    "        self.active = True\n",
    "        \n",
    "        \n",
    "    def next_state(self):\n",
    "        '''\n",
    "        Propagates the customer to the next state.\n",
    "        Returns nothing.\n",
    "        '''\n",
    "        next_location_prob = self.transition_probs.loc[self.state] #then gives self.state, by string and probability of the string\n",
    "        self.state = np.random.choice(next_location_prob.index, p = next_location_prob.values) #first state some random state, takes values in probs based on likelih\n",
    "        \n",
    "    def is_active(self):\n",
    "        \"\"\"\n",
    "        Returns True if the customer has not reached the checkout yet\n",
    "        \"\"\"\n",
    "        if self.state == 'checkout':\n",
    "            self.active=False"
   ]
  },
  {
   "cell_type": "code",
   "execution_count": 21,
   "id": "75268187",
   "metadata": {},
   "outputs": [],
   "source": [
    "cust1 = Customer('Jenny')"
   ]
  },
  {
   "cell_type": "code",
   "execution_count": 22,
   "id": "55f832a6",
   "metadata": {},
   "outputs": [
    {
     "data": {
      "text/plain": [
       "'drinks'"
      ]
     },
     "execution_count": 22,
     "metadata": {},
     "output_type": "execute_result"
    }
   ],
   "source": [
    "cust1.state"
   ]
  },
  {
   "cell_type": "code",
   "execution_count": 25,
   "id": "fff1eeb3",
   "metadata": {},
   "outputs": [],
   "source": [
    "cust1.next_state()"
   ]
  },
  {
   "cell_type": "code",
   "execution_count": 26,
   "id": "3ad40d46",
   "metadata": {},
   "outputs": [
    {
     "data": {
      "text/plain": [
       "'dairy'"
      ]
     },
     "execution_count": 26,
     "metadata": {},
     "output_type": "execute_result"
    }
   ],
   "source": [
    "cust1.state"
   ]
  },
  {
   "cell_type": "code",
   "execution_count": null,
   "id": "7e634a0a",
   "metadata": {},
   "outputs": [],
   "source": []
  },
  {
   "cell_type": "markdown",
   "id": "08691f65",
   "metadata": {},
   "source": []
  }
 ],
 "metadata": {
  "kernelspec": {
   "display_name": "Python 3 (ipykernel)",
   "language": "python",
   "name": "python3"
  },
  "language_info": {
   "codemirror_mode": {
    "name": "ipython",
    "version": 3
   },
   "file_extension": ".py",
   "mimetype": "text/x-python",
   "name": "python",
   "nbconvert_exporter": "python",
   "pygments_lexer": "ipython3",
   "version": "3.9.7"
  }
 },
 "nbformat": 4,
 "nbformat_minor": 5
}
